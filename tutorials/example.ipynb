{
 "cells": [
  {
   "cell_type": "code",
   "execution_count": 3,
   "metadata": {},
   "outputs": [
    {
     "ename": "ModuleNotFoundError",
     "evalue": "No module named 'marion_model'",
     "output_type": "error",
     "traceback": [
      "\u001b[1;31m---------------------------------------------------------------------------\u001b[0m",
      "\u001b[1;31mModuleNotFoundError\u001b[0m                       Traceback (most recent call last)",
      "\u001b[1;32mc:\\Users\\ghas2002\\Desktop\\codes_python\\BifacialPowerEstimator\\tutorials\\example.ipynb Cell 1\u001b[0m line \u001b[0;36m1\n\u001b[1;32m----> <a href='vscode-notebook-cell:/c%3A/Users/ghas2002/Desktop/codes_python/BifacialPowerEstimator/tutorials/example.ipynb#W0sZmlsZQ%3D%3D?line=0'>1</a>\u001b[0m \u001b[39mimport\u001b[39;00m \u001b[39mmarion_model\u001b[39;00m \n\u001b[0;32m      <a href='vscode-notebook-cell:/c%3A/Users/ghas2002/Desktop/codes_python/BifacialPowerEstimator/tutorials/example.ipynb#W0sZmlsZQ%3D%3D?line=1'>2</a>\u001b[0m \u001b[39mimport\u001b[39;00m \u001b[39mbifacial\u001b[39;00m \n\u001b[0;32m      <a href='vscode-notebook-cell:/c%3A/Users/ghas2002/Desktop/codes_python/BifacialPowerEstimator/tutorials/example.ipynb#W0sZmlsZQ%3D%3D?line=2'>3</a>\u001b[0m \u001b[39mimport\u001b[39;00m \u001b[39mbif_power\u001b[39;00m\n",
      "\u001b[1;31mModuleNotFoundError\u001b[0m: No module named 'marion_model'"
     ]
    }
   ],
   "source": [
    "import marion_model \n",
    "import bifacial \n",
    "import bif_power\n",
    "import pandas as pd  \n",
    "import plotly as plt \n",
    "import plotly.express as px\n",
    "import plotly.graph_objects as go\n",
    "from bifacial import *\n",
    "from zoneinfo import ZoneInfo \n",
    "from datetime import datetime \n",
    "from tqdm import tqdm\n",
    "import numpy as np \n",
    "import pytz\n",
    "from vmdpy import VMD\n",
    "import os   \n",
    "import importlib \n",
    "import tmms"
   ]
  },
  {
   "cell_type": "markdown",
   "metadata": {},
   "source": [
    "Import the data from the data folder "
   ]
  },
  {
   "cell_type": "code",
   "execution_count": 2,
   "metadata": {},
   "outputs": [
    {
     "ename": "NameError",
     "evalue": "name 'ZoneInfo' is not defined",
     "output_type": "error",
     "traceback": [
      "\u001b[1;31m---------------------------------------------------------------------------\u001b[0m",
      "\u001b[1;31mNameError\u001b[0m                                 Traceback (most recent call last)",
      "\u001b[1;32mc:\\Users\\ghas2002\\Desktop\\codes_python\\BifacialPowerEstimator\\tutorials\\example.ipynb Cell 3\u001b[0m line \u001b[0;36m2\n\u001b[0;32m      <a href='vscode-notebook-cell:/c%3A/Users/ghas2002/Desktop/codes_python/BifacialPowerEstimator/tutorials/example.ipynb#W1sZmlsZQ%3D%3D?line=0'>1</a>\u001b[0m \u001b[39m# Time Zone Conversion UTC --> US/Eastern  \u001b[39;00m\n\u001b[1;32m----> <a href='vscode-notebook-cell:/c%3A/Users/ghas2002/Desktop/codes_python/BifacialPowerEstimator/tutorials/example.ipynb#W1sZmlsZQ%3D%3D?line=1'>2</a>\u001b[0m eastern_timezone \u001b[39m=\u001b[39m ZoneInfo(\u001b[39m'\u001b[39m\u001b[39mUS/Eastern\u001b[39m\u001b[39m'\u001b[39m)\n\u001b[0;32m      <a href='vscode-notebook-cell:/c%3A/Users/ghas2002/Desktop/codes_python/BifacialPowerEstimator/tutorials/example.ipynb#W1sZmlsZQ%3D%3D?line=2'>3</a>\u001b[0m start_date \u001b[39m=\u001b[39m datetime(\u001b[39m2021\u001b[39m, \u001b[39m1\u001b[39m, \u001b[39m1\u001b[39m, \u001b[39m0\u001b[39m, tzinfo\u001b[39m=\u001b[39meastern_timezone) \n\u001b[0;32m      <a href='vscode-notebook-cell:/c%3A/Users/ghas2002/Desktop/codes_python/BifacialPowerEstimator/tutorials/example.ipynb#W1sZmlsZQ%3D%3D?line=3'>4</a>\u001b[0m end_date  \u001b[39m=\u001b[39m  datetime(\u001b[39m2021\u001b[39m, \u001b[39m12\u001b[39m, \u001b[39m31\u001b[39m, \u001b[39m23\u001b[39m, tzinfo\u001b[39m=\u001b[39meastern_timezone) \n",
      "\u001b[1;31mNameError\u001b[0m: name 'ZoneInfo' is not defined"
     ]
    }
   ],
   "source": [
    "# Time Zone Conversion UTC --> US/Eastern  \n",
    "eastern_timezone = ZoneInfo('US/Eastern')\n",
    "start_date = datetime(2021, 1, 1, 0, tzinfo=eastern_timezone) \n",
    "end_date  =  datetime(2021, 12, 31, 23, tzinfo=eastern_timezone) \n",
    "start_date.astimezone(eastern_timezone) \n",
    "end_date.astimezone(eastern_timezone)\n",
    "time_zone  = 'US/Eastern'\n",
    "data = bif_power.solcastData(start_date= start_date,end_date= end_date, timezone=time_zone, data_file=r\"data\\data_dorval.csv\"  )"
   ]
  }
 ],
 "metadata": {
  "kernelspec": {
   "display_name": "venv-pv1",
   "language": "python",
   "name": "python3"
  },
  "language_info": {
   "codemirror_mode": {
    "name": "ipython",
    "version": 3
   },
   "file_extension": ".py",
   "mimetype": "text/x-python",
   "name": "python",
   "nbconvert_exporter": "python",
   "pygments_lexer": "ipython3",
   "version": "3.11.6"
  }
 },
 "nbformat": 4,
 "nbformat_minor": 2
}
